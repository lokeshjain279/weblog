{
  "nbformat": 4,
  "nbformat_minor": 0,
  "metadata": {
    "colab": {
      "name": "data preprocessing.ipynb",
      "provenance": [],
      "collapsed_sections": [],
      "toc_visible": true
    },
    "kernelspec": {
      "name": "python3",
      "display_name": "Python 3"
    }
  },
  "cells": [
    {
      "cell_type": "markdown",
      "metadata": {
        "id": "aBOr2clBcXvk"
      },
      "source": [
        "reading csv"
      ]
    },
    { 
      "cell_type": "markdown",
      "metadata": {
        "id": "HIMHuRz3c_OR"
      },
      "source": [
        "##Data Cleaning and pre-processing"
      ]
    },
    {
      "cell_type": "code",
      "metadata": {
        "id": "fYRDM5utSvxR"
      },
      "source": [
        "import pandas as pd\r\n",
        "df=pd.read_csv('weblog.csv',index_col=False)"
      ],
      "execution_count": null,
      "outputs": []
    },
    {
      "cell_type": "code",
      "metadata": {
        "colab": {
          "base_uri": "https://localhost:8080/",
          "height": 195
        },
        "id": "MRDfoQ7TtuK6",
        "outputId": "3a35c408-d1b1-4e38-b62f-31971ff2eb50"
      },
      "source": [
        "df.head()"
      ],
      "execution_count": null,
      "outputs": [
        {
          "output_type": "execute_result",
          "data": {
            "text/html": [
              "<div>\n",
              "<style scoped>\n",
              "    .dataframe tbody tr th:only-of-type {\n",
              "        vertical-align: middle;\n",
              "    }\n",
              "\n",
              "    .dataframe tbody tr th {\n",
              "        vertical-align: top;\n",
              "    }\n",
              "\n",
              "    .dataframe thead th {\n",
              "        text-align: right;\n",
              "    }\n",
              "</style>\n",
              "<table border=\"1\" class=\"dataframe\">\n",
              "  <thead>\n",
              "    <tr style=\"text-align: right;\">\n",
              "      <th></th>\n",
              "      <th>IP</th>\n",
              "      <th>Time</th>\n",
              "      <th>URL</th>\n",
              "      <th>Staus</th>\n",
              "    </tr>\n",
              "  </thead>\n",
              "  <tbody>\n",
              "    <tr>\n",
              "      <th>0</th>\n",
              "      <td>10.128.2.1</td>\n",
              "      <td>[29/Nov/2017:06:58:55</td>\n",
              "      <td>GET /login.php HTTP/1.1</td>\n",
              "      <td>200</td>\n",
              "    </tr>\n",
              "    <tr>\n",
              "      <th>1</th>\n",
              "      <td>10.128.2.1</td>\n",
              "      <td>[29/Nov/2017:06:59:02</td>\n",
              "      <td>POST /process.php HTTP/1.1</td>\n",
              "      <td>302</td>\n",
              "    </tr>\n",
              "    <tr>\n",
              "      <th>2</th>\n",
              "      <td>10.128.2.1</td>\n",
              "      <td>[29/Nov/2017:06:59:03</td>\n",
              "      <td>GET /home.php HTTP/1.1</td>\n",
              "      <td>200</td>\n",
              "    </tr>\n",
              "    <tr>\n",
              "      <th>3</th>\n",
              "      <td>10.131.2.1</td>\n",
              "      <td>[29/Nov/2017:06:59:04</td>\n",
              "      <td>GET /js/vendor/moment.min.js HTTP/1.1</td>\n",
              "      <td>200</td>\n",
              "    </tr>\n",
              "    <tr>\n",
              "      <th>4</th>\n",
              "      <td>10.130.2.1</td>\n",
              "      <td>[29/Nov/2017:06:59:06</td>\n",
              "      <td>GET /bootstrap-3.3.7/js/bootstrap.js HTTP/1.1</td>\n",
              "      <td>200</td>\n",
              "    </tr>\n",
              "  </tbody>\n",
              "</table>\n",
              "</div>"
            ],
            "text/plain": [
              "           IP  ... Staus\n",
              "0  10.128.2.1  ...   200\n",
              "1  10.128.2.1  ...   302\n",
              "2  10.128.2.1  ...   200\n",
              "3  10.131.2.1  ...   200\n",
              "4  10.130.2.1  ...   200\n",
              "\n",
              "[5 rows x 4 columns]"
            ]
          },
          "metadata": {
            "tags": []
          },
          "execution_count": 4
        }
      ]
    },
    {
      "cell_type": "markdown",
      "metadata": {
        "id": "Dt758k40cas3"
      },
      "source": [
        "cleaning datetime column"
      ]
    },
    {
      "cell_type": "code",
      "metadata": {
        "id": "jRsdDoSgS9ey"
      },
      "source": [
        "df['Time']=df['Time'].str.replace('[','')\r\n",
        "df['Time']= pd.to_datetime(df['Time'],format='%d/%b/%Y:%H:%M:%S', errors='coerce')"
      ],
      "execution_count": null,
      "outputs": []
    },
    {
      "cell_type": "markdown",
      "metadata": {
        "id": "0qPkN0UAcdhW"
      },
      "source": [
        "cleaning typo"
      ]
    },
    {
      "cell_type": "code",
      "metadata": {
        "id": "WjpcS5lyS-fu"
      },
      "source": [
        "df=df.rename(columns={\"Staus\": \"Status\"})"
      ],
      "execution_count": null,
      "outputs": []
    },
    {
      "cell_type": "markdown",
      "metadata": {
        "id": "_mP-qKL_cfZH"
      },
      "source": [
        "splitting URL"
      ]
    },
    {
      "cell_type": "code",
      "metadata": {
        "id": "y6bnkeziTzKh"
      },
      "source": [
        "df[['Method','URL','HTTP']] = df['URL'].str.split(' ',expand=True)"
      ],
      "execution_count": null,
      "outputs": []
    },
    {
      "cell_type": "code",
      "metadata": {
        "colab": {
          "base_uri": "https://localhost:8080/",
          "height": 195
        },
        "id": "3E7gsSXAWbFF",
        "outputId": "421eaaeb-3307-4c51-f4bc-fa383567ef93"
      },
      "source": [
        "df.head()"
      ],
      "execution_count": null,
      "outputs": [
        {
          "output_type": "execute_result",
          "data": {
            "text/html": [
              "<div>\n",
              "<style scoped>\n",
              "    .dataframe tbody tr th:only-of-type {\n",
              "        vertical-align: middle;\n",
              "    }\n",
              "\n",
              "    .dataframe tbody tr th {\n",
              "        vertical-align: top;\n",
              "    }\n",
              "\n",
              "    .dataframe thead th {\n",
              "        text-align: right;\n",
              "    }\n",
              "</style>\n",
              "<table border=\"1\" class=\"dataframe\">\n",
              "  <thead>\n",
              "    <tr style=\"text-align: right;\">\n",
              "      <th></th>\n",
              "      <th>IP</th>\n",
              "      <th>Time</th>\n",
              "      <th>URL</th>\n",
              "      <th>Status</th>\n",
              "      <th>Method</th>\n",
              "      <th>HTTP</th>\n",
              "    </tr>\n",
              "  </thead>\n",
              "  <tbody>\n",
              "    <tr>\n",
              "      <th>0</th>\n",
              "      <td>10.128.2.1</td>\n",
              "      <td>2017-11-29 06:58:55</td>\n",
              "      <td>/login.php</td>\n",
              "      <td>200</td>\n",
              "      <td>GET</td>\n",
              "      <td>HTTP/1.1</td>\n",
              "    </tr>\n",
              "    <tr>\n",
              "      <th>1</th>\n",
              "      <td>10.128.2.1</td>\n",
              "      <td>2017-11-29 06:59:02</td>\n",
              "      <td>/process.php</td>\n",
              "      <td>302</td>\n",
              "      <td>POST</td>\n",
              "      <td>HTTP/1.1</td>\n",
              "    </tr>\n",
              "    <tr>\n",
              "      <th>2</th>\n",
              "      <td>10.128.2.1</td>\n",
              "      <td>2017-11-29 06:59:03</td>\n",
              "      <td>/home.php</td>\n",
              "      <td>200</td>\n",
              "      <td>GET</td>\n",
              "      <td>HTTP/1.1</td>\n",
              "    </tr>\n",
              "    <tr>\n",
              "      <th>3</th>\n",
              "      <td>10.131.2.1</td>\n",
              "      <td>2017-11-29 06:59:04</td>\n",
              "      <td>/js/vendor/moment.min.js</td>\n",
              "      <td>200</td>\n",
              "      <td>GET</td>\n",
              "      <td>HTTP/1.1</td>\n",
              "    </tr>\n",
              "    <tr>\n",
              "      <th>4</th>\n",
              "      <td>10.130.2.1</td>\n",
              "      <td>2017-11-29 06:59:06</td>\n",
              "      <td>/bootstrap-3.3.7/js/bootstrap.js</td>\n",
              "      <td>200</td>\n",
              "      <td>GET</td>\n",
              "      <td>HTTP/1.1</td>\n",
              "    </tr>\n",
              "  </tbody>\n",
              "</table>\n",
              "</div>"
            ],
            "text/plain": [
              "           IP                Time  ... Method      HTTP\n",
              "0  10.128.2.1 2017-11-29 06:58:55  ...    GET  HTTP/1.1\n",
              "1  10.128.2.1 2017-11-29 06:59:02  ...   POST  HTTP/1.1\n",
              "2  10.128.2.1 2017-11-29 06:59:03  ...    GET  HTTP/1.1\n",
              "3  10.131.2.1 2017-11-29 06:59:04  ...    GET  HTTP/1.1\n",
              "4  10.130.2.1 2017-11-29 06:59:06  ...    GET  HTTP/1.1\n",
              "\n",
              "[5 rows x 6 columns]"
            ]
          },
          "metadata": {
            "tags": []
          },
          "execution_count": 8
        }
      ]
    },
    {
      "cell_type": "markdown",
      "metadata": {
        "id": "YkD354qxmm_O"
      },
      "source": [
        "Checking for NULL values"
      ]
    },
    {
      "cell_type": "code",
      "metadata": {
        "colab": {
          "base_uri": "https://localhost:8080/"
        },
        "id": "c5M05_BWmpQ4",
        "outputId": "df49c767-8048-4655-ca3c-94057d33e5a2"
      },
      "source": [
        "df.isnull().sum()"
      ],
      "execution_count": null,
      "outputs": [
        {
          "output_type": "execute_result",
          "data": {
            "text/plain": [
              "IP          0\n",
              "Time      218\n",
              "URL       218\n",
              "Status      0\n",
              "Method      0\n",
              "HTTP      218\n",
              "dtype: int64"
            ]
          },
          "metadata": {
            "tags": []
          },
          "execution_count": 9
        }
      ]
    },
    {
      "cell_type": "markdown",
      "metadata": {
        "id": "iaYDC-XEsSis"
      },
      "source": [
        "Time column has null value, which will throw an error when amking a datetime column in PSQL.\r\n",
        "\r\n",
        "There are null values for time right after there was an error of some sort. So to fill the time of error inplace of null values when error was encountered is a good strategy. We will use the forward fill method for this."
      ]
    },
    {
      "cell_type": "code",
      "metadata": {
        "id": "Y8tfF0wVnRPR"
      },
      "source": [
        "df.Time.fillna(method='ffill', inplace=True)"
      ],
      "execution_count": null,
      "outputs": []
    },
    {
      "cell_type": "code",
      "metadata": {
        "colab": {
          "base_uri": "https://localhost:8080/"
        },
        "id": "a9bQDBq8nVac",
        "outputId": "b147b5a4-1596-4e6f-b7f7-c34877bc665a"
      },
      "source": [
        "df.isnull().sum()"
      ],
      "execution_count": null,
      "outputs": [
        {
          "output_type": "execute_result",
          "data": {
            "text/plain": [
              "IP          0\n",
              "Time        0\n",
              "URL       218\n",
              "Status      0\n",
              "Method      0\n",
              "HTTP      218\n",
              "dtype: int64"
            ]
          },
          "metadata": {
            "tags": []
          },
          "execution_count": 11
        }
      ]
    },
    {
      "cell_type": "markdown",
      "metadata": {
        "id": "F4y8vb_BHtgN"
      },
      "source": [
        "Let's take a look at the data before saving it."
      ]
    },
    {
      "cell_type": "code",
      "metadata": {
        "colab": {
          "base_uri": "https://localhost:8080/",
          "height": 402
        },
        "id": "pOQZ95PoHwb9",
        "outputId": "f63674f7-5f9f-4797-c207-3c878682a211"
      },
      "source": [
        "df"
      ],
      "execution_count": null,
      "outputs": [
        {
          "output_type": "execute_result",
          "data": {
            "text/html": [
              "<div>\n",
              "<style scoped>\n",
              "    .dataframe tbody tr th:only-of-type {\n",
              "        vertical-align: middle;\n",
              "    }\n",
              "\n",
              "    .dataframe tbody tr th {\n",
              "        vertical-align: top;\n",
              "    }\n",
              "\n",
              "    .dataframe thead th {\n",
              "        text-align: right;\n",
              "    }\n",
              "</style>\n",
              "<table border=\"1\" class=\"dataframe\">\n",
              "  <thead>\n",
              "    <tr style=\"text-align: right;\">\n",
              "      <th></th>\n",
              "      <th>IP</th>\n",
              "      <th>Time</th>\n",
              "      <th>URL</th>\n",
              "      <th>Status</th>\n",
              "      <th>Method</th>\n",
              "      <th>HTTP</th>\n",
              "    </tr>\n",
              "  </thead>\n",
              "  <tbody>\n",
              "    <tr>\n",
              "      <th>0</th>\n",
              "      <td>10.128.2.1</td>\n",
              "      <td>2017-11-29 06:58:55</td>\n",
              "      <td>/login.php</td>\n",
              "      <td>200</td>\n",
              "      <td>GET</td>\n",
              "      <td>HTTP/1.1</td>\n",
              "    </tr>\n",
              "    <tr>\n",
              "      <th>1</th>\n",
              "      <td>10.128.2.1</td>\n",
              "      <td>2017-11-29 06:59:02</td>\n",
              "      <td>/process.php</td>\n",
              "      <td>302</td>\n",
              "      <td>POST</td>\n",
              "      <td>HTTP/1.1</td>\n",
              "    </tr>\n",
              "    <tr>\n",
              "      <th>2</th>\n",
              "      <td>10.128.2.1</td>\n",
              "      <td>2017-11-29 06:59:03</td>\n",
              "      <td>/home.php</td>\n",
              "      <td>200</td>\n",
              "      <td>GET</td>\n",
              "      <td>HTTP/1.1</td>\n",
              "    </tr>\n",
              "    <tr>\n",
              "      <th>3</th>\n",
              "      <td>10.131.2.1</td>\n",
              "      <td>2017-11-29 06:59:04</td>\n",
              "      <td>/js/vendor/moment.min.js</td>\n",
              "      <td>200</td>\n",
              "      <td>GET</td>\n",
              "      <td>HTTP/1.1</td>\n",
              "    </tr>\n",
              "    <tr>\n",
              "      <th>4</th>\n",
              "      <td>10.130.2.1</td>\n",
              "      <td>2017-11-29 06:59:06</td>\n",
              "      <td>/bootstrap-3.3.7/js/bootstrap.js</td>\n",
              "      <td>200</td>\n",
              "      <td>GET</td>\n",
              "      <td>HTTP/1.1</td>\n",
              "    </tr>\n",
              "    <tr>\n",
              "      <th>...</th>\n",
              "      <td>...</td>\n",
              "      <td>...</td>\n",
              "      <td>...</td>\n",
              "      <td>...</td>\n",
              "      <td>...</td>\n",
              "      <td>...</td>\n",
              "    </tr>\n",
              "    <tr>\n",
              "      <th>16002</th>\n",
              "      <td>10.130.2.1</td>\n",
              "      <td>2018-03-02 15:47:12</td>\n",
              "      <td>/showcode.php?id=309&amp;nm=ham05</td>\n",
              "      <td>200</td>\n",
              "      <td>GET</td>\n",
              "      <td>HTTP/1.1</td>\n",
              "    </tr>\n",
              "    <tr>\n",
              "      <th>16003</th>\n",
              "      <td>10.130.2.1</td>\n",
              "      <td>2018-03-02 15:47:23</td>\n",
              "      <td>/allsubmission.php</td>\n",
              "      <td>200</td>\n",
              "      <td>GET</td>\n",
              "      <td>HTTP/1.1</td>\n",
              "    </tr>\n",
              "    <tr>\n",
              "      <th>16004</th>\n",
              "      <td>10.130.2.1</td>\n",
              "      <td>2018-03-02 15:47:32</td>\n",
              "      <td>/showcode.php?id=309&amp;nm=ham05</td>\n",
              "      <td>200</td>\n",
              "      <td>GET</td>\n",
              "      <td>HTTP/1.1</td>\n",
              "    </tr>\n",
              "    <tr>\n",
              "      <th>16005</th>\n",
              "      <td>10.130.2.1</td>\n",
              "      <td>2018-03-02 15:47:35</td>\n",
              "      <td>/allsubmission.php</td>\n",
              "      <td>200</td>\n",
              "      <td>GET</td>\n",
              "      <td>HTTP/1.1</td>\n",
              "    </tr>\n",
              "    <tr>\n",
              "      <th>16006</th>\n",
              "      <td>10.130.2.1</td>\n",
              "      <td>2018-03-02 15:47:46</td>\n",
              "      <td>/home.php</td>\n",
              "      <td>200</td>\n",
              "      <td>GET</td>\n",
              "      <td>HTTP/1.1</td>\n",
              "    </tr>\n",
              "  </tbody>\n",
              "</table>\n",
              "<p>16007 rows × 6 columns</p>\n",
              "</div>"
            ],
            "text/plain": [
              "               IP                Time  ... Method      HTTP\n",
              "0      10.128.2.1 2017-11-29 06:58:55  ...    GET  HTTP/1.1\n",
              "1      10.128.2.1 2017-11-29 06:59:02  ...   POST  HTTP/1.1\n",
              "2      10.128.2.1 2017-11-29 06:59:03  ...    GET  HTTP/1.1\n",
              "3      10.131.2.1 2017-11-29 06:59:04  ...    GET  HTTP/1.1\n",
              "4      10.130.2.1 2017-11-29 06:59:06  ...    GET  HTTP/1.1\n",
              "...           ...                 ...  ...    ...       ...\n",
              "16002  10.130.2.1 2018-03-02 15:47:12  ...    GET  HTTP/1.1\n",
              "16003  10.130.2.1 2018-03-02 15:47:23  ...    GET  HTTP/1.1\n",
              "16004  10.130.2.1 2018-03-02 15:47:32  ...    GET  HTTP/1.1\n",
              "16005  10.130.2.1 2018-03-02 15:47:35  ...    GET  HTTP/1.1\n",
              "16006  10.130.2.1 2018-03-02 15:47:46  ...    GET  HTTP/1.1\n",
              "\n",
              "[16007 rows x 6 columns]"
            ]
          },
          "metadata": {
            "tags": []
          },
          "execution_count": 12
        }
      ]
    },
    {
      "cell_type": "code",
      "metadata": {
        "colab": {
          "base_uri": "https://localhost:8080/"
        },
        "id": "rgDLPd_VHxRI",
        "outputId": "6ab7d210-9161-499b-8cde-18cd2c03e929"
      },
      "source": [
        "df.IP.value_counts()"
      ],
      "execution_count": null,
      "outputs": [
        {
          "output_type": "execute_result",
          "data": {
            "text/plain": [
              "10.128.2.1    4257\n",
              "10.131.0.1    4198\n",
              "10.130.2.1    4056\n",
              "10.129.2.1    1652\n",
              "10.131.2.1    1626\n",
              "chmod:          95\n",
              "rm:             72\n",
              "[Tue            17\n",
              "sh:              7\n",
              "[Thu             6\n",
              "timeout:         5\n",
              "[Wed             5\n",
              "[Mon             5\n",
              "a.out:           4\n",
              "[Sat             1\n",
              "[Fri             1\n",
              "Name: IP, dtype: int64"
            ]
          },
          "metadata": {
            "tags": []
          },
          "execution_count": 13
        }
      ]
    },
    {
      "cell_type": "code",
      "metadata": {
        "colab": {
          "base_uri": "https://localhost:8080/"
        },
        "id": "l_xaB5GnH0lO",
        "outputId": "f2cf13c8-6f6b-44be-db44-4245c4cf7eb5"
      },
      "source": [
        "df.Status.value_counts()"
      ],
      "execution_count": null,
      "outputs": [
        {
          "output_type": "execute_result",
          "data": {
            "text/plain": [
              "200             11330\n",
              "302              3498\n",
              "304               658\n",
              "404               251\n",
              "No                167\n",
              "206                52\n",
              "2018]              28\n",
              "2017]               7\n",
              "dumped              5\n",
              "Assertion           4\n",
              "Aborted             4\n",
              "found               2\n",
              "Segmentation        1\n",
              "Name: Status, dtype: int64"
            ]
          },
          "metadata": {
            "tags": []
          },
          "execution_count": 14
        }
      ]
    },
    {
      "cell_type": "code",
      "metadata": {
        "colab": {
          "base_uri": "https://localhost:8080/"
        },
        "id": "hHBfaNP7H-TI",
        "outputId": "f94cfa9b-8762-41cd-9afc-2520f181893b"
      },
      "source": [
        "df.Method.value_counts()"
      ],
      "execution_count": null,
      "outputs": [
        {
          "output_type": "execute_result",
          "data": {
            "text/plain": [
              "GET             15098\n",
              "POST              682\n",
              "'error.txt':       64\n",
              "'*.o':             62\n",
              "'a.out':           41\n",
              "HEAD                9\n",
              "12:58.7             5\n",
              "29:09.2             5\n",
              "48:37.1             5\n",
              "24:12.8             5\n",
              "52:06.9             5\n",
              "02:49.8             5\n",
              "command             5\n",
              "main():             4\n",
              "not                 2\n",
              "848                 1\n",
              "451                 1\n",
              "40:28.7             1\n",
              "1192                1\n",
              "20:28.3             1\n",
              "44:47.7             1\n",
              "51:47.0             1\n",
              "1243                1\n",
              "00:53.4             1\n",
              "1226                1\n",
              "Name: Method, dtype: int64"
            ]
          },
          "metadata": {
            "tags": []
          },
          "execution_count": 15
        }
      ]
    },
    {
      "cell_type": "code",
      "metadata": {
        "colab": {
          "base_uri": "https://localhost:8080/"
        },
        "id": "7sHvuv1-IFw7",
        "outputId": "eacf99f7-8f39-4f6d-e289-7df411dc0e07"
      },
      "source": [
        "df.HTTP.value_counts()"
      ],
      "execution_count": null,
      "outputs": [
        {
          "output_type": "execute_result",
          "data": {
            "text/plain": [
              "HTTP/1.1    15742\n",
              "HTTP/1.0       47\n",
              "Name: HTTP, dtype: int64"
            ]
          },
          "metadata": {
            "tags": []
          },
          "execution_count": 16
        }
      ]
    },
    {
      "cell_type": "code",
      "metadata": {
        "id": "_a0z-XoXet7D"
      },
      "source": [
        "df.to_csv('weblog_clean.csv', index=False)"
      ],
      "execution_count": null,
      "outputs": []
    }
  ]
}